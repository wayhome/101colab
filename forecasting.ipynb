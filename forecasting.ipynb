{
  "nbformat": 4,
  "nbformat_minor": 0,
  "metadata": {
    "colab": {
      "provenance": [],
      "authorship_tag": "ABX9TyMQJ9JhzOzmH997A0N1OfYF",
      "include_colab_link": true
    },
    "kernelspec": {
      "name": "python3",
      "display_name": "Python 3"
    },
    "language_info": {
      "name": "python"
    }
  },
  "cells": [
    {
      "cell_type": "markdown",
      "metadata": {
        "id": "view-in-github",
        "colab_type": "text"
      },
      "source": [
        "<a href=\"https://colab.research.google.com/github/wayhome/colab/blob/main/forecasting.ipynb\" target=\"_parent\"><img src=\"https://colab.research.google.com/assets/colab-badge.svg\" alt=\"Open In Colab\"/></a>"
      ]
    },
    {
      "cell_type": "code",
      "source": [
        "!apt -qy install fonts-noto-cjk"
      ],
      "metadata": {
        "id": "VlTini488UjZ"
      },
      "execution_count": null,
      "outputs": []
    },
    {
      "cell_type": "code",
      "source": [
        "import matplotlib.pyplot as plt\n",
        "from matplotlib.font_manager import FontProperties\n",
        "\n",
        "# 设置中文字体\n",
        "font_cjk = FontProperties(fname=r'/usr/share/fonts/opentype/noto/NotoSansCJK-Regular.ttc')\n",
        "#plt.rcParams['font.family'] = font_cjk.get_name()\n"
      ],
      "metadata": {
        "id": "HehSFlVE8lxh"
      },
      "execution_count": null,
      "outputs": []
    },
    {
      "cell_type": "code",
      "execution_count": null,
      "metadata": {
        "id": "wC2iwGto3zXU"
      },
      "outputs": [],
      "source": [
        "import numpy as np\n",
        "\n",
        "\n",
        "# 生成1000个来自标准正态分布的样本\n",
        "samples = np.random.randn(1000)\n",
        "\n",
        "# 可视化为时间序列\n",
        "plt.plot(samples)\n",
        "plt.title('时间序列', fontproperties=font_cjk)\n",
        "plt.xlabel('时间', fontproperties=font_cjk)\n",
        "plt.ylabel('值', fontproperties=font_cjk)\n",
        "plt.show()\n",
        "\n",
        "# 可视化为直方图\n",
        "plt.hist(samples, bins=30)\n",
        "plt.title('直方图', fontproperties=font_cjk)\n",
        "plt.xlabel('值', fontproperties=font_cjk)\n",
        "plt.ylabel('频率', fontproperties=font_cjk)\n",
        "plt.show()\n"
      ]
    }
  ]
}