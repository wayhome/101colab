{
  "cells": [
    {
      "cell_type": "markdown",
      "metadata": {
        "id": "view-in-github",
        "colab_type": "text"
      },
      "source": [
        "<a href=\"https://colab.research.google.com/github/wayhome/colab/blob/main/llm_test.ipynb\" target=\"_parent\"><img src=\"https://colab.research.google.com/assets/colab-badge.svg\" alt=\"Open In Colab\"/></a>"
      ]
    },
    {
      "cell_type": "code",
      "source": [
        "from google.colab import drive\n",
        "drive.mount('/content/drive')"
      ],
      "metadata": {
        "colab": {
          "base_uri": "https://localhost:8080/"
        },
        "id": "KOW37nU96UYc",
        "outputId": "1a5e8a40-5a77-4767-b296-a4ffd9fe31ef"
      },
      "execution_count": null,
      "outputs": [
        {
          "output_type": "stream",
          "name": "stdout",
          "text": [
            "Drive already mounted at /content/drive; to attempt to forcibly remount, call drive.mount(\"/content/drive\", force_remount=True).\n"
          ]
        }
      ]
    },
    {
      "cell_type": "code",
      "source": [
        "import os\n",
        "import shutil\n",
        "root_path =  '/content/drive/MyDrive/colab'\n",
        "default_cache_path = '/root/.cache'\n",
        "import pathlib\n",
        "path = pathlib.Path(root_path)\n",
        "cachedir  = str(path / \"cache\")\n",
        "if os.path.exists(default_cache_path):\n",
        "  shutil.rmtree(default_cache_path)\n",
        "  os.symlink(str(cachedir), default_cache_path)"
      ],
      "metadata": {
        "id": "0NIWE1Sp6jp0"
      },
      "execution_count": null,
      "outputs": []
    }
  ],
  "metadata": {
    "colab": {
      "provenance": [],
      "machine_shape": "hm",
      "mount_file_id": "1ALsz-yTEL2dqBifvJtsZNgP96ahd0hSp",
      "authorship_tag": "ABX9TyOptBSpvVZfscKqMB2LklqM",
      "include_colab_link": true
    },
    "kernelspec": {
      "display_name": "Python 3",
      "name": "python3"
    },
    "language_info": {
      "name": "python"
    }
  },
  "nbformat": 4,
  "nbformat_minor": 0
}