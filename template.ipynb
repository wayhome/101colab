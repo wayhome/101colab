{
  "nbformat": 4,
  "nbformat_minor": 0,
  "metadata": {
    "colab": {
      "provenance": [],
      "mount_file_id": "1-QC6B9jdCfWjj3NJ9GfGFbbVdGcekTBE",
      "authorship_tag": "ABX9TyMRDwHLc7gsF3FCAEky6uQa",
      "include_colab_link": true
    },
    "kernelspec": {
      "name": "python3",
      "display_name": "Python 3"
    },
    "language_info": {
      "name": "python"
    }
  },
  "cells": [
    {
      "cell_type": "markdown",
      "metadata": {
        "id": "view-in-github",
        "colab_type": "text"
      },
      "source": [
        "<a href=\"https://colab.research.google.com/github/wayhome/101colab/blob/main/template.ipynb\" target=\"_parent\"><img src=\"https://colab.research.google.com/assets/colab-badge.svg\" alt=\"Open In Colab\"/></a>"
      ]
    },
    {
      "cell_type": "code",
      "source": [
        "# 为 matplotlib 添加中文支持\n",
        "!apt -qy install fonts-noto-cjk\n",
        "import matplotlib\n",
        "import matplotlib.pyplot as plt\n",
        "import matplotlib.font_manager as fm\n",
        "\n",
        "font_cjk = fm.FontProperties(fname=r'/usr/share/fonts/opentype/noto/NotoSansCJK-Regular.ttc')\n",
        "plt.rcParams['font.family'] = font_cjk.get_name()\n",
        "fm.fontManager.addfont(font_cjk.get_file())\n",
        "matplotlib.rc('font', family=font_cjk.get_name())"
      ],
      "metadata": {
        "id": "IA-VV_PvUxri",
        "outputId": "7bb9ba83-9b88-4c10-8e0c-42776d088e85",
        "colab": {
          "base_uri": "https://localhost:8080/"
        }
      },
      "execution_count": 1,
      "outputs": [
        {
          "output_type": "stream",
          "name": "stdout",
          "text": [
            "Reading package lists...\n",
            "Building dependency tree...\n",
            "Reading state information...\n",
            "Suggested packages:\n",
            "  fonts-noto-cjk-extra\n",
            "The following NEW packages will be installed:\n",
            "  fonts-noto-cjk\n",
            "0 upgraded, 1 newly installed, 0 to remove and 49 not upgraded.\n",
            "Need to get 61.2 MB of archives.\n",
            "After this operation, 93.2 MB of additional disk space will be used.\n",
            "Get:1 http://archive.ubuntu.com/ubuntu jammy/main amd64 fonts-noto-cjk all 1:20220127+repack1-1 [61.2 MB]\n",
            "Fetched 61.2 MB in 5s (12.6 MB/s)\n",
            "Selecting previously unselected package fonts-noto-cjk.\n",
            "(Reading database ... 123597 files and directories currently installed.)\n",
            "Preparing to unpack .../fonts-noto-cjk_1%3a20220127+repack1-1_all.deb ...\n",
            "Unpacking fonts-noto-cjk (1:20220127+repack1-1) ...\n",
            "Setting up fonts-noto-cjk (1:20220127+repack1-1) ...\n",
            "Processing triggers for fontconfig (2.13.1-4.2ubuntu5) ...\n"
          ]
        }
      ]
    },
    {
      "cell_type": "code",
      "execution_count": 2,
      "metadata": {
        "id": "AKIRGI2AefHa",
        "outputId": "c703aae8-b7d0-4985-c581-38bacb029495",
        "colab": {
          "base_uri": "https://localhost:8080/"
        }
      },
      "outputs": [
        {
          "output_type": "stream",
          "name": "stdout",
          "text": [
            "Mounted at /content/drive\n"
          ]
        }
      ],
      "source": [
        "import pathlib\n",
        "import shutil\n",
        "\n",
        "root_path = pathlib.Path(\"/content/drive/MyDrive/colab\")\n",
        "cache_path = root_path / \"cache\"\n",
        "\n",
        "if not root_path.exists():\n",
        "  from google.colab import drive\n",
        "  drive.mount('/content/drive')\n",
        "\n",
        "# 替换系统的默认缓存路径为指定的 cache_path, 基于 google drive 复用缓存\n",
        "origin_cache_path = pathlib.Path.home() / \".cache\"\n",
        "if origin_cache_path.exists():\n",
        "    if origin_cache_path.is_symlink():\n",
        "        pass\n",
        "    else:\n",
        "        shutil.rmtree(origin_cache_path)\n",
        "        origin_cache_path.symlink_to(cache_path)"
      ]
    }
  ]
}