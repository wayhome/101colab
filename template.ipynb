{
  "nbformat": 4,
  "nbformat_minor": 0,
  "metadata": {
    "colab": {
      "provenance": [],
      "mount_file_id": "1-QC6B9jdCfWjj3NJ9GfGFbbVdGcekTBE",
      "authorship_tag": "ABX9TyOjCIMxKpayhEOFBBmSOBmh",
      "include_colab_link": true
    },
    "kernelspec": {
      "name": "python3",
      "display_name": "Python 3"
    },
    "language_info": {
      "name": "python"
    }
  },
  "cells": [
    {
      "cell_type": "markdown",
      "metadata": {
        "id": "view-in-github",
        "colab_type": "text"
      },
      "source": [
        "<a href=\"https://colab.research.google.com/github/wayhome/101colab/blob/main/template.ipynb\" target=\"_parent\"><img src=\"https://colab.research.google.com/assets/colab-badge.svg\" alt=\"Open In Colab\"/></a>"
      ]
    },
    {
      "cell_type": "code",
      "execution_count": 3,
      "metadata": {
        "id": "AKIRGI2AefHa"
      },
      "outputs": [],
      "source": [
        "import pathlib\n",
        "import shutil\n",
        "\n",
        "root_path = pathlib.Path(\"/content/drive/MyDrive/colab\")\n",
        "cache_path = root_path / \"cache\"\n",
        "\n",
        "if not root_path.exists():\n",
        "  from google.colab import drive\n",
        "  drive.mount('/content/drive')\n",
        "\n",
        "# 替换系统的默认缓存路径为指定的 cache_path, 基于 google drive 复用缓存\n",
        "origin_cache_path = pathlib.Path.home() / \".cache\"\n",
        "if origin_cache_path.exists():\n",
        "    if origin_cache_path.is_symlink():\n",
        "        pass\n",
        "    else:\n",
        "        shutil.rmtree(origin_cache_path)\n",
        "        origin_cache_path.symlink_to(cache_path)"
      ]
    }
  ]
}